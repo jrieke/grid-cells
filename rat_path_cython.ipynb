{
 "cells": [
  {
   "cell_type": "code",
   "execution_count": 2,
   "metadata": {
    "ExecuteTime": {
     "end_time": "2017-01-22T19:24:58.680125",
     "start_time": "2017-01-22T19:24:57.873182"
    },
    "collapsed": true
   },
   "outputs": [],
   "source": [
    "%load_ext Cython"
   ]
  },
  {
   "cell_type": "code",
   "execution_count": 3,
   "metadata": {
    "ExecuteTime": {
     "end_time": "2017-01-22T19:24:59.268686",
     "start_time": "2017-01-22T19:24:58.682129"
    },
    "collapsed": false
   },
   "outputs": [],
   "source": [
    "%%cython\n",
    "import numpy as np\n",
    "cimport numpy as np\n",
    "cimport cython\n",
    "from libc cimport math\n",
    "\n",
    "\n",
    "@cython.boundscheck(False) # turn off bounds-checking for entire function\n",
    "@cython.wraparound(False)  # turn off negative index wrapping for entire function\n",
    "cdef simulate_path(\n",
    "    double x,\n",
    "    double y,\n",
    "    double sd,\n",
    "    double speed,\n",
    "    double t_max,    \n",
    "    double dt):\n",
    "    \n",
    "    cdef int steps\n",
    "    steps = int(math.floor(t_max / dt))    \n",
    "    \n",
    "    # pre-generate random numbers for each step. border reaches cause bounce backs\n",
    "    direction_sds_arr = np.random.normal(0.0, sd, steps)\n",
    "    cdef double[:] direction_sds = direction_sds_arr\n",
    "    \n",
    "    positions_arr = np.zeros([steps, 2], dtype=np.float64)\n",
    "    cdef double[:, :] positions = positions_arr\n",
    "    positions[0, 0] = x / 2.0\n",
    "    positions[0, 1] = y / 2.0\n",
    "    \n",
    "    cdef double prev_direction = 0.0\n",
    "    cdef double cur_direction = 0.0\n",
    "    cdef double new_position_x = 0.0\n",
    "    cdef double new_position_y = 0.0\n",
    "    cdef double cur_x = 0.0\n",
    "    cdef double cur_y = 0.0\n",
    "    cdef Py_ssize_t step\n",
    "    # loop over timesteps\n",
    "    for step in range(1, steps):\n",
    "        cur_direction = direction_sds[step] + prev_direction\n",
    "        cur_x = math.cos(cur_direction)\n",
    "        cur_y = math.sin(cur_direction)\n",
    "        new_position_x = positions[step - 1, 0] + speed * dt * cur_x\n",
    "        new_position_y = positions[step - 1, 1] + speed * dt * cur_y\n",
    "        \n",
    "        # turn direction around if wall is hit\n",
    "        if (new_position_x < 0.0) or (new_position_x > x):\n",
    "            cur_x = math.cos(cur_direction + 3.1415)\n",
    "            new_position_x = positions[step - 1, 0] + speed * dt * cur_x\n",
    "            \n",
    "        if (new_position_y < 0.0) or (new_position_y > y):\n",
    "            cur_y = math.sin(cur_direction + 3.1415)\n",
    "            new_position_y = positions[step - 1, 1] + speed * dt * cur_y\n",
    "            \n",
    "        positions[step, 0] = new_position_x\n",
    "        positions[step, 1] = new_position_y   \n",
    "        prev_direction = cur_direction\n",
    "    \n",
    "    return positions\n",
    "\n",
    "def simulate(x, y, sd, speed, t_max, dt):\n",
    "    return simulate_path(x, y, sd, speed, t_max, dt)"
   ]
  },
  {
   "cell_type": "code",
   "execution_count": 7,
   "metadata": {
    "ExecuteTime": {
     "end_time": "2017-01-22T19:34:20.036770",
     "start_time": "2017-01-22T19:34:19.575824"
    },
    "collapsed": false,
    "scrolled": true
   },
   "outputs": [],
   "source": [
    "path = simulate(1.25, 1.25, 0.2, 0.4, 36000, 0.01)\n",
    "np.save(\"rat_path_10h.npy\", path)"
   ]
  },
  {
   "cell_type": "code",
   "execution_count": 8,
   "metadata": {
    "ExecuteTime": {
     "end_time": "2017-01-22T19:34:20.104822",
     "start_time": "2017-01-22T19:34:20.038769"
    },
    "collapsed": true
   },
   "outputs": [],
   "source": [
    "path = simulate(1.25, 1.25, 0.2, 0.4, 3600, 0.01)\n",
    "np.save(\"rat_path_1h.npy\", path)"
   ]
  },
  {
   "cell_type": "code",
   "execution_count": 9,
   "metadata": {
    "ExecuteTime": {
     "end_time": "2017-01-22T19:34:20.124340",
     "start_time": "2017-01-22T19:34:20.107824"
    },
    "collapsed": true
   },
   "outputs": [],
   "source": [
    "path = simulate(1.25, 1.25, 0.2, 0.4, 1, 0.01)\n",
    "np.save(\"rat_path_1s.npy\", path)"
   ]
  },
  {
   "cell_type": "code",
   "execution_count": null,
   "metadata": {
    "collapsed": true
   },
   "outputs": [],
   "source": []
  }
 ],
 "metadata": {
  "anaconda-cloud": {},
  "kernelspec": {
   "display_name": "Python [default]",
   "language": "python",
   "name": "python3"
  },
  "language_info": {
   "codemirror_mode": {
    "name": "ipython",
    "version": 3
   },
   "file_extension": ".py",
   "mimetype": "text/x-python",
   "name": "python",
   "nbconvert_exporter": "python",
   "pygments_lexer": "ipython3",
   "version": "3.5.2"
  }
 },
 "nbformat": 4,
 "nbformat_minor": 1
}
